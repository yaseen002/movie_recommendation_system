{
 "cells": [
  {
   "cell_type": "markdown",
   "id": "e1984402-5354-42df-9433-3385c48b8db7",
   "metadata": {},
   "source": [
    "---\n",
    "---\n",
    "# Movie Recommendation Systerm\n",
    "---\n",
    "---"
   ]
  },
  {
   "cell_type": "markdown",
   "id": "a66197d9-bc31-4038-a0e6-75bec33eb282",
   "metadata": {},
   "source": [
    "---\n",
    "## Day2 \n",
    "\n",
    "Goal: Prepare the MovieLens dataset by cleaning it and organizing it for recommendations.\n",
    "\n",
    "### Tasks:\n",
    "\n",
    "#### Task 1: Install Python and required libraries.\n"
   ]
  },
  {
   "cell_type": "markdown",
   "id": "7e1e7ced-7901-4fbf-aba5-3e3e77af17ab",
   "metadata": {},
   "source": [
    "!pip install pandas numpy scikit-learn"
   ]
  },
  {
   "cell_type": "markdown",
   "id": "ed691c39-1a48-4c86-b9b8-7b8e4f29e416",
   "metadata": {},
   "source": [
    "#### Task 2: Download the dataset.\n",
    "\n",
    "- Visit Kaggle TMDB 5000 Movie Dataset, sign in, click “Download”, and unzip to get tmdb_5000_movies.csv and tmdb_5000_credits.csv. Place them in your project folder.\n",
    "- Rename files to movies.csv and credits.csv for consistency. Ensure they’re in the same folder as thss script"
   ]
  },
  {
   "cell_type": "markdown",
   "id": "78e3f19b-f8c4-4cfe-879e-516e03dcca60",
   "metadata": {},
   "source": [
    "#### Task 3: Load datasets into Pandas."
   ]
  },
  {
   "cell_type": "code",
   "execution_count": 3,
   "id": "10c1cdec-218a-4a1b-a94d-42d587ce5a7e",
   "metadata": {},
   "outputs": [],
   "source": [
    "# Import pandas\n",
    "import pandas as pd"
   ]
  },
  {
   "cell_type": "code",
   "execution_count": 5,
   "id": "558db3e9-7888-48e8-ae96-21d3e042a89d",
   "metadata": {},
   "outputs": [],
   "source": [
    "movies = pd.read_csv('movies.csv')\n",
    "credits = pd.read_csv('credits.csv')"
   ]
  },
  {
   "cell_type": "code",
   "execution_count": 6,
   "id": "2a4d9f2b-30ee-4866-8933-4f4248a3774b",
   "metadata": {},
   "outputs": [
    {
     "data": {
      "text/plain": [
       "(4803, 20)"
      ]
     },
     "execution_count": 6,
     "metadata": {},
     "output_type": "execute_result"
    }
   ],
   "source": [
    "movies.shape"
   ]
  },
  {
   "cell_type": "markdown",
   "id": "8a631b7b-bc40-45f8-8c74-6c9df6243a00",
   "metadata": {},
   "source": [
    "#### Task 4: Inspect dataset columns."
   ]
  },
  {
   "cell_type": "code",
   "execution_count": 8,
   "id": "2a66508f-84f2-4123-a173-c0e57c6f5e75",
   "metadata": {},
   "outputs": [
    {
     "data": {
      "text/html": [
       "<div>\n",
       "<style scoped>\n",
       "    .dataframe tbody tr th:only-of-type {\n",
       "        vertical-align: middle;\n",
       "    }\n",
       "\n",
       "    .dataframe tbody tr th {\n",
       "        vertical-align: top;\n",
       "    }\n",
       "\n",
       "    .dataframe thead th {\n",
       "        text-align: right;\n",
       "    }\n",
       "</style>\n",
       "<table border=\"1\" class=\"dataframe\">\n",
       "  <thead>\n",
       "    <tr style=\"text-align: right;\">\n",
       "      <th></th>\n",
       "      <th>budget</th>\n",
       "      <th>genres</th>\n",
       "      <th>homepage</th>\n",
       "      <th>id</th>\n",
       "      <th>keywords</th>\n",
       "      <th>original_language</th>\n",
       "      <th>original_title</th>\n",
       "      <th>overview</th>\n",
       "      <th>popularity</th>\n",
       "      <th>production_companies</th>\n",
       "      <th>production_countries</th>\n",
       "      <th>release_date</th>\n",
       "      <th>revenue</th>\n",
       "      <th>runtime</th>\n",
       "      <th>spoken_languages</th>\n",
       "      <th>status</th>\n",
       "      <th>tagline</th>\n",
       "      <th>title</th>\n",
       "      <th>vote_average</th>\n",
       "      <th>vote_count</th>\n",
       "    </tr>\n",
       "  </thead>\n",
       "  <tbody>\n",
       "    <tr>\n",
       "      <th>0</th>\n",
       "      <td>237000000</td>\n",
       "      <td>[{\"id\": 28, \"name\": \"Action\"}, {\"id\": 12, \"nam...</td>\n",
       "      <td>http://www.avatarmovie.com/</td>\n",
       "      <td>19995</td>\n",
       "      <td>[{\"id\": 1463, \"name\": \"culture clash\"}, {\"id\":...</td>\n",
       "      <td>en</td>\n",
       "      <td>Avatar</td>\n",
       "      <td>In the 22nd century, a paraplegic Marine is di...</td>\n",
       "      <td>150.437577</td>\n",
       "      <td>[{\"name\": \"Ingenious Film Partners\", \"id\": 289...</td>\n",
       "      <td>[{\"iso_3166_1\": \"US\", \"name\": \"United States o...</td>\n",
       "      <td>2009-12-10</td>\n",
       "      <td>2787965087</td>\n",
       "      <td>162.0</td>\n",
       "      <td>[{\"iso_639_1\": \"en\", \"name\": \"English\"}, {\"iso...</td>\n",
       "      <td>Released</td>\n",
       "      <td>Enter the World of Pandora.</td>\n",
       "      <td>Avatar</td>\n",
       "      <td>7.2</td>\n",
       "      <td>11800</td>\n",
       "    </tr>\n",
       "    <tr>\n",
       "      <th>1</th>\n",
       "      <td>300000000</td>\n",
       "      <td>[{\"id\": 12, \"name\": \"Adventure\"}, {\"id\": 14, \"...</td>\n",
       "      <td>http://disney.go.com/disneypictures/pirates/</td>\n",
       "      <td>285</td>\n",
       "      <td>[{\"id\": 270, \"name\": \"ocean\"}, {\"id\": 726, \"na...</td>\n",
       "      <td>en</td>\n",
       "      <td>Pirates of the Caribbean: At World's End</td>\n",
       "      <td>Captain Barbossa, long believed to be dead, ha...</td>\n",
       "      <td>139.082615</td>\n",
       "      <td>[{\"name\": \"Walt Disney Pictures\", \"id\": 2}, {\"...</td>\n",
       "      <td>[{\"iso_3166_1\": \"US\", \"name\": \"United States o...</td>\n",
       "      <td>2007-05-19</td>\n",
       "      <td>961000000</td>\n",
       "      <td>169.0</td>\n",
       "      <td>[{\"iso_639_1\": \"en\", \"name\": \"English\"}]</td>\n",
       "      <td>Released</td>\n",
       "      <td>At the end of the world, the adventure begins.</td>\n",
       "      <td>Pirates of the Caribbean: At World's End</td>\n",
       "      <td>6.9</td>\n",
       "      <td>4500</td>\n",
       "    </tr>\n",
       "    <tr>\n",
       "      <th>2</th>\n",
       "      <td>245000000</td>\n",
       "      <td>[{\"id\": 28, \"name\": \"Action\"}, {\"id\": 12, \"nam...</td>\n",
       "      <td>http://www.sonypictures.com/movies/spectre/</td>\n",
       "      <td>206647</td>\n",
       "      <td>[{\"id\": 470, \"name\": \"spy\"}, {\"id\": 818, \"name...</td>\n",
       "      <td>en</td>\n",
       "      <td>Spectre</td>\n",
       "      <td>A cryptic message from Bond’s past sends him o...</td>\n",
       "      <td>107.376788</td>\n",
       "      <td>[{\"name\": \"Columbia Pictures\", \"id\": 5}, {\"nam...</td>\n",
       "      <td>[{\"iso_3166_1\": \"GB\", \"name\": \"United Kingdom\"...</td>\n",
       "      <td>2015-10-26</td>\n",
       "      <td>880674609</td>\n",
       "      <td>148.0</td>\n",
       "      <td>[{\"iso_639_1\": \"fr\", \"name\": \"Fran\\u00e7ais\"},...</td>\n",
       "      <td>Released</td>\n",
       "      <td>A Plan No One Escapes</td>\n",
       "      <td>Spectre</td>\n",
       "      <td>6.3</td>\n",
       "      <td>4466</td>\n",
       "    </tr>\n",
       "    <tr>\n",
       "      <th>3</th>\n",
       "      <td>250000000</td>\n",
       "      <td>[{\"id\": 28, \"name\": \"Action\"}, {\"id\": 80, \"nam...</td>\n",
       "      <td>http://www.thedarkknightrises.com/</td>\n",
       "      <td>49026</td>\n",
       "      <td>[{\"id\": 849, \"name\": \"dc comics\"}, {\"id\": 853,...</td>\n",
       "      <td>en</td>\n",
       "      <td>The Dark Knight Rises</td>\n",
       "      <td>Following the death of District Attorney Harve...</td>\n",
       "      <td>112.312950</td>\n",
       "      <td>[{\"name\": \"Legendary Pictures\", \"id\": 923}, {\"...</td>\n",
       "      <td>[{\"iso_3166_1\": \"US\", \"name\": \"United States o...</td>\n",
       "      <td>2012-07-16</td>\n",
       "      <td>1084939099</td>\n",
       "      <td>165.0</td>\n",
       "      <td>[{\"iso_639_1\": \"en\", \"name\": \"English\"}]</td>\n",
       "      <td>Released</td>\n",
       "      <td>The Legend Ends</td>\n",
       "      <td>The Dark Knight Rises</td>\n",
       "      <td>7.6</td>\n",
       "      <td>9106</td>\n",
       "    </tr>\n",
       "  </tbody>\n",
       "</table>\n",
       "</div>"
      ],
      "text/plain": [
       "      budget                                             genres  \\\n",
       "0  237000000  [{\"id\": 28, \"name\": \"Action\"}, {\"id\": 12, \"nam...   \n",
       "1  300000000  [{\"id\": 12, \"name\": \"Adventure\"}, {\"id\": 14, \"...   \n",
       "2  245000000  [{\"id\": 28, \"name\": \"Action\"}, {\"id\": 12, \"nam...   \n",
       "3  250000000  [{\"id\": 28, \"name\": \"Action\"}, {\"id\": 80, \"nam...   \n",
       "\n",
       "                                       homepage      id  \\\n",
       "0                   http://www.avatarmovie.com/   19995   \n",
       "1  http://disney.go.com/disneypictures/pirates/     285   \n",
       "2   http://www.sonypictures.com/movies/spectre/  206647   \n",
       "3            http://www.thedarkknightrises.com/   49026   \n",
       "\n",
       "                                            keywords original_language  \\\n",
       "0  [{\"id\": 1463, \"name\": \"culture clash\"}, {\"id\":...                en   \n",
       "1  [{\"id\": 270, \"name\": \"ocean\"}, {\"id\": 726, \"na...                en   \n",
       "2  [{\"id\": 470, \"name\": \"spy\"}, {\"id\": 818, \"name...                en   \n",
       "3  [{\"id\": 849, \"name\": \"dc comics\"}, {\"id\": 853,...                en   \n",
       "\n",
       "                             original_title  \\\n",
       "0                                    Avatar   \n",
       "1  Pirates of the Caribbean: At World's End   \n",
       "2                                   Spectre   \n",
       "3                     The Dark Knight Rises   \n",
       "\n",
       "                                            overview  popularity  \\\n",
       "0  In the 22nd century, a paraplegic Marine is di...  150.437577   \n",
       "1  Captain Barbossa, long believed to be dead, ha...  139.082615   \n",
       "2  A cryptic message from Bond’s past sends him o...  107.376788   \n",
       "3  Following the death of District Attorney Harve...  112.312950   \n",
       "\n",
       "                                production_companies  \\\n",
       "0  [{\"name\": \"Ingenious Film Partners\", \"id\": 289...   \n",
       "1  [{\"name\": \"Walt Disney Pictures\", \"id\": 2}, {\"...   \n",
       "2  [{\"name\": \"Columbia Pictures\", \"id\": 5}, {\"nam...   \n",
       "3  [{\"name\": \"Legendary Pictures\", \"id\": 923}, {\"...   \n",
       "\n",
       "                                production_countries release_date     revenue  \\\n",
       "0  [{\"iso_3166_1\": \"US\", \"name\": \"United States o...   2009-12-10  2787965087   \n",
       "1  [{\"iso_3166_1\": \"US\", \"name\": \"United States o...   2007-05-19   961000000   \n",
       "2  [{\"iso_3166_1\": \"GB\", \"name\": \"United Kingdom\"...   2015-10-26   880674609   \n",
       "3  [{\"iso_3166_1\": \"US\", \"name\": \"United States o...   2012-07-16  1084939099   \n",
       "\n",
       "   runtime                                   spoken_languages    status  \\\n",
       "0    162.0  [{\"iso_639_1\": \"en\", \"name\": \"English\"}, {\"iso...  Released   \n",
       "1    169.0           [{\"iso_639_1\": \"en\", \"name\": \"English\"}]  Released   \n",
       "2    148.0  [{\"iso_639_1\": \"fr\", \"name\": \"Fran\\u00e7ais\"},...  Released   \n",
       "3    165.0           [{\"iso_639_1\": \"en\", \"name\": \"English\"}]  Released   \n",
       "\n",
       "                                          tagline  \\\n",
       "0                     Enter the World of Pandora.   \n",
       "1  At the end of the world, the adventure begins.   \n",
       "2                           A Plan No One Escapes   \n",
       "3                                 The Legend Ends   \n",
       "\n",
       "                                      title  vote_average  vote_count  \n",
       "0                                    Avatar           7.2       11800  \n",
       "1  Pirates of the Caribbean: At World's End           6.9        4500  \n",
       "2                                   Spectre           6.3        4466  \n",
       "3                     The Dark Knight Rises           7.6        9106  "
      ]
     },
     "execution_count": 8,
     "metadata": {},
     "output_type": "execute_result"
    }
   ],
   "source": [
    "movies.head(4)"
   ]
  },
  {
   "cell_type": "code",
   "execution_count": 12,
   "id": "47591009-3c90-446d-b89e-554efaf2c052",
   "metadata": {},
   "outputs": [
    {
     "name": "stdout",
     "output_type": "stream",
     "text": [
      "['budget', 'genres', 'homepage', 'id', 'keywords', 'original_language', 'original_title', 'overview', 'popularity', 'production_companies', 'production_countries', 'release_date', 'revenue', 'runtime', 'spoken_languages', 'status', 'tagline', 'title', 'vote_average', 'vote_count']\n",
      "**************************************************\n",
      "['movie_id', 'title', 'cast', 'crew']\n"
     ]
    }
   ],
   "source": [
    "print(movies.columns.tolist())\n",
    "print(\"*\"*50)\n",
    "print(credits.columns.tolist())"
   ]
  },
  {
   "cell_type": "markdown",
   "id": "befe1592-9dfe-4636-b7ef-a8247fdef6ed",
   "metadata": {},
   "source": [
    "---\n",
    "## Day 3\n",
    "\n",
    "**Goal: Learn how to measure similarity between users to find similar tastes.**"
   ]
  },
  {
   "cell_type": "code",
   "execution_count": 2,
   "id": "fa244835-f9e9-4e5d-a576-e6d5d2f58d97",
   "metadata": {},
   "outputs": [],
   "source": [
    "import pandas as pd\n",
    "\n",
    "movies = pd.read_csv('movies.csv')\n",
    "credits = pd.read_csv('credits.csv')"
   ]
  },
  {
   "cell_type": "markdown",
   "id": "034b211d-2e20-4cdf-95a4-df93a7956426",
   "metadata": {},
   "source": [
    "### Task 1: Merge datasets.\n",
    "- First you will have to learn: Merging combines datasets using id (movies) and movie_id (credits).\n",
    "- How to learn easily: Read about Pandas merge."
   ]
  },
  {
   "cell_type": "code",
   "execution_count": 9,
   "id": "437f5b13-c59d-414a-9944-ec55020de3f1",
   "metadata": {},
   "outputs": [],
   "source": [
    "# Step 1: Rename the 'movie_id' column in the 'credits' DataFrame to 'id'\n",
    "# This ensures both DataFrames have a common column name for merging.\n",
    "credits = credits.rename(columns={'movie_id': 'id'})"
   ]
  },
  {
   "cell_type": "code",
   "execution_count": 12,
   "id": "784b4f8a-a33d-421e-9502-5e0f2ab7ee07",
   "metadata": {},
   "outputs": [],
   "source": [
    "# Step 2: Merge the 'movies' and 'credits' DataFrames\n",
    "# We're merging 'on' the 'id' column, which is now common to both.\n",
    "df = movies.merge(credits, on='id')"
   ]
  },
  {
   "cell_type": "code",
   "execution_count": 15,
   "id": "6949f985-5fe0-4f60-b37f-a7f5036191fa",
   "metadata": {},
   "outputs": [
    {
     "name": "stdout",
     "output_type": "stream",
     "text": [
      "Shape after merging movies and credits: (4803, 23)\n",
      "Shape before merging movies and credits: (4803, 20) :: (4803, 4)\n"
     ]
    }
   ],
   "source": [
    "# Step 3: Print the shape of the new merged DataFrame (df)\n",
    "# This helps you verify if the merge resulted in the expected number of rows and columns.\n",
    "print(\"Shape after merging movies and credits:\", df.shape)\n",
    "print(\"Shape before merging movies and credits:\", movies.shape, \"::\", credits.shape)"
   ]
  },
  {
   "cell_type": "code",
   "execution_count": 16,
   "id": "031e3e6a-a62b-4551-8082-37de71503b75",
   "metadata": {},
   "outputs": [
    {
     "name": "stdout",
     "output_type": "stream",
     "text": [
      "Index(['budget', 'genres', 'homepage', 'id', 'keywords', 'original_language',\n",
      "       'original_title', 'overview', 'popularity', 'production_companies',\n",
      "       'production_countries', 'release_date', 'revenue', 'runtime',\n",
      "       'spoken_languages', 'status', 'tagline', 'title_x', 'vote_average',\n",
      "       'vote_count', 'title_y', 'cast', 'crew'],\n",
      "      dtype='object')\n"
     ]
    }
   ],
   "source": [
    "print(df.columns)"
   ]
  },
  {
   "cell_type": "markdown",
   "id": "5255403e-3f61-4191-bb9b-918b3df1b4fc",
   "metadata": {},
   "source": [
    "### Task 2: Check for missing data\n",
    "- First you will have to learn: Missing values (NaN) can break text processing.\n",
    "- How to learn easily: Learn isna()."
   ]
  },
  {
   "cell_type": "code",
   "execution_count": 18,
   "id": "d2186393-8dc1-4118-b46f-4a0a3a939077",
   "metadata": {},
   "outputs": [
    {
     "name": "stdout",
     "output_type": "stream",
     "text": [
      "budget                     0\n",
      "genres                     0\n",
      "homepage                3091\n",
      "id                         0\n",
      "keywords                   0\n",
      "original_language          0\n",
      "original_title             0\n",
      "overview                   3\n",
      "popularity                 0\n",
      "production_companies       0\n",
      "production_countries       0\n",
      "release_date               1\n",
      "revenue                    0\n",
      "runtime                    2\n",
      "spoken_languages           0\n",
      "status                     0\n",
      "tagline                  844\n",
      "title_x                    0\n",
      "vote_average               0\n",
      "vote_count                 0\n",
      "title_y                    0\n",
      "cast                       0\n",
      "crew                       0\n",
      "dtype: int64\n"
     ]
    }
   ],
   "source": [
    "print(df.isna().sum())"
   ]
  },
  {
   "cell_type": "markdown",
   "id": "33f70c4f-1459-4b1b-b33b-067ec32a12a8",
   "metadata": {},
   "source": [
    "### Task 3: Handle missing overview (column name).\n",
    "\n",
    "- First you will have to learn: Replace NaN with empty strings for text columns.\n",
    "- How to learn easily: Learn fillna()\n",
    "- The .fillna() method in Pandas is used to replace missing values (NaN) with values with empty strings in text-based columns.('')"
   ]
  },
  {
   "cell_type": "code",
   "execution_count": 22,
   "id": "efc2cf62-46ce-4e05-b560-7083eea03c35",
   "metadata": {},
   "outputs": [],
   "source": [
    "# we well just look now to the overview column for now\n",
    "df['overview'] = df['overview'].fillna('')"
   ]
  },
  {
   "cell_type": "code",
   "execution_count": 23,
   "id": "12e32658-f5f1-4bc6-8f0c-e5ead5837ac9",
   "metadata": {},
   "outputs": [
    {
     "name": "stdout",
     "output_type": "stream",
     "text": [
      "budget                     0\n",
      "genres                     0\n",
      "homepage                3091\n",
      "id                         0\n",
      "keywords                   0\n",
      "original_language          0\n",
      "original_title             0\n",
      "overview                   0\n",
      "popularity                 0\n",
      "production_companies       0\n",
      "production_countries       0\n",
      "release_date               1\n",
      "revenue                    0\n",
      "runtime                    2\n",
      "spoken_languages           0\n",
      "status                     0\n",
      "tagline                  844\n",
      "title_x                    0\n",
      "vote_average               0\n",
      "vote_count                 0\n",
      "title_y                    0\n",
      "cast                       0\n",
      "crew                       0\n",
      "dtype: int64\n"
     ]
    }
   ],
   "source": [
    "# Cheking if there is an empty row at overview column\n",
    "print(df.isna().sum())"
   ]
  },
  {
   "cell_type": "markdown",
   "id": "4ab09ef0-e3bf-4c39-a2d0-6748c423e72d",
   "metadata": {},
   "source": [
    "### Task 4: Save the cleaned DataFrame.\n",
    "- First you will have to learn: Saving progress avoids rework.\n",
    "- How to learn easily: Learn **to_csv()**."
   ]
  },
  {
   "cell_type": "code",
   "execution_count": 25,
   "id": "7c62975d-d4e5-4586-b248-406a43e22f3a",
   "metadata": {},
   "outputs": [],
   "source": [
    "# Save the DataFrame 'df' to a new CSV file\n",
    "# index=False prevents Pandas from writing the DataFrame index as a column in the CSV\n",
    "df.to_csv('cleaned_movies.csv', index=False)"
   ]
  },
  {
   "cell_type": "code",
   "execution_count": null,
   "id": "4c5aba01-5e27-41e7-b697-e29aff6f7718",
   "metadata": {},
   "outputs": [],
   "source": []
  }
 ],
 "metadata": {
  "kernelspec": {
   "display_name": "Python 3 (ipykernel)",
   "language": "python",
   "name": "python3"
  },
  "language_info": {
   "codemirror_mode": {
    "name": "ipython",
    "version": 3
   },
   "file_extension": ".py",
   "mimetype": "text/x-python",
   "name": "python",
   "nbconvert_exporter": "python",
   "pygments_lexer": "ipython3",
   "version": "3.11.7"
  }
 },
 "nbformat": 4,
 "nbformat_minor": 5
}
